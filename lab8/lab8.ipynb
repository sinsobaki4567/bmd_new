{
 "cells": [
  {
   "cell_type": "markdown",
   "metadata": {},
   "source": [
    "# Обробка та аналіз БМД\n",
    "\n",
    "Лабораторна робота №8\n",
    "\n",
    "Виконав студент групи БС-81\n",
    "\n",
    "Лукашевич Максим"
   ]
  },
  {
   "cell_type": "code",
   "execution_count": 3,
   "metadata": {},
   "outputs": [],
   "source": [
    "import scipy.stats as ss\n",
    "import numpy as np\n",
    "import pandas as pd\n",
    "from math import sqrt\n",
    "import matplotlib.pyplot as plt\n",
    "import seaborn as sns"
   ]
  },
  {
   "cell_type": "code",
   "execution_count": 32,
   "metadata": {},
   "outputs": [
    {
     "data": {
      "text/html": [
       "<div>\n",
       "<style scoped>\n",
       "    .dataframe tbody tr th:only-of-type {\n",
       "        vertical-align: middle;\n",
       "    }\n",
       "\n",
       "    .dataframe tbody tr th {\n",
       "        vertical-align: top;\n",
       "    }\n",
       "\n",
       "    .dataframe thead th {\n",
       "        text-align: right;\n",
       "    }\n",
       "</style>\n",
       "<table border=\"1\" class=\"dataframe\">\n",
       "  <thead>\n",
       "    <tr style=\"text-align: right;\">\n",
       "      <th></th>\n",
       "      <th>1_g</th>\n",
       "      <th>2_g</th>\n",
       "      <th>3_g</th>\n",
       "    </tr>\n",
       "  </thead>\n",
       "  <tbody>\n",
       "    <tr>\n",
       "      <th>0</th>\n",
       "      <td>34</td>\n",
       "      <td>35</td>\n",
       "      <td>35</td>\n",
       "    </tr>\n",
       "    <tr>\n",
       "      <th>1</th>\n",
       "      <td>31</td>\n",
       "      <td>35</td>\n",
       "      <td>31</td>\n",
       "    </tr>\n",
       "    <tr>\n",
       "      <th>2</th>\n",
       "      <td>30</td>\n",
       "      <td>34</td>\n",
       "      <td>38</td>\n",
       "    </tr>\n",
       "    <tr>\n",
       "      <th>3</th>\n",
       "      <td>36</td>\n",
       "      <td>34</td>\n",
       "      <td>57</td>\n",
       "    </tr>\n",
       "    <tr>\n",
       "      <th>4</th>\n",
       "      <td>29</td>\n",
       "      <td>33</td>\n",
       "      <td>54</td>\n",
       "    </tr>\n",
       "    <tr>\n",
       "      <th>5</th>\n",
       "      <td>30</td>\n",
       "      <td>33</td>\n",
       "      <td>29</td>\n",
       "    </tr>\n",
       "    <tr>\n",
       "      <th>6</th>\n",
       "      <td>31</td>\n",
       "      <td>37</td>\n",
       "      <td>38</td>\n",
       "    </tr>\n",
       "    <tr>\n",
       "      <th>7</th>\n",
       "      <td>35</td>\n",
       "      <td>38</td>\n",
       "      <td>35</td>\n",
       "    </tr>\n",
       "    <tr>\n",
       "      <th>8</th>\n",
       "      <td>32</td>\n",
       "      <td>37</td>\n",
       "      <td>40</td>\n",
       "    </tr>\n",
       "    <tr>\n",
       "      <th>9</th>\n",
       "      <td>33</td>\n",
       "      <td>38</td>\n",
       "      <td>43</td>\n",
       "    </tr>\n",
       "  </tbody>\n",
       "</table>\n",
       "</div>"
      ],
      "text/plain": [
       "   1_g  2_g  3_g\n",
       "0   34   35   35\n",
       "1   31   35   31\n",
       "2   30   34   38\n",
       "3   36   34   57\n",
       "4   29   33   54\n",
       "5   30   33   29\n",
       "6   31   37   38\n",
       "7   35   38   35\n",
       "8   32   37   40\n",
       "9   33   38   43"
      ]
     },
     "execution_count": 32,
     "metadata": {},
     "output_type": "execute_result"
    }
   ],
   "source": [
    "dat1 = [34, 31, 30, 36, 29, 30, 31, 35, 32, 33]\n",
    "dat2 = [35, 35, 34, 34, 33, 33, 37, 38, 37, 38]\n",
    "dat3 = [35, 31, 38, 57, 54, 29, 38, 35, 40, 43]\n",
    "dataframe = pd.DataFrame({\"1_g\":dat1, \n",
    "                          \"2_g\":dat2,\n",
    "                          \"3_g\":dat3})\n",
    "\n",
    "dataframe"
   ]
  },
  {
   "cell_type": "markdown",
   "metadata": {},
   "source": [
    "1. Розрахувати та вивести у вигляді таблиці статистичні характиристики даних (середні та стандартні відхилення для кожної з груп)."
   ]
  },
  {
   "cell_type": "code",
   "execution_count": 29,
   "metadata": {},
   "outputs": [
    {
     "data": {
      "text/html": [
       "<div>\n",
       "<style scoped>\n",
       "    .dataframe tbody tr th:only-of-type {\n",
       "        vertical-align: middle;\n",
       "    }\n",
       "\n",
       "    .dataframe tbody tr th {\n",
       "        vertical-align: top;\n",
       "    }\n",
       "\n",
       "    .dataframe thead th {\n",
       "        text-align: right;\n",
       "    }\n",
       "</style>\n",
       "<table border=\"1\" class=\"dataframe\">\n",
       "  <thead>\n",
       "    <tr style=\"text-align: right;\">\n",
       "      <th></th>\n",
       "      <th>1_g</th>\n",
       "      <th>2_g</th>\n",
       "      <th>3_g</th>\n",
       "    </tr>\n",
       "  </thead>\n",
       "  <tbody>\n",
       "    <tr>\n",
       "      <th>0</th>\n",
       "      <td>34.000000</td>\n",
       "      <td>35.00000</td>\n",
       "      <td>35.00000</td>\n",
       "    </tr>\n",
       "    <tr>\n",
       "      <th>1</th>\n",
       "      <td>31.000000</td>\n",
       "      <td>35.00000</td>\n",
       "      <td>31.00000</td>\n",
       "    </tr>\n",
       "    <tr>\n",
       "      <th>2</th>\n",
       "      <td>30.000000</td>\n",
       "      <td>34.00000</td>\n",
       "      <td>38.00000</td>\n",
       "    </tr>\n",
       "    <tr>\n",
       "      <th>3</th>\n",
       "      <td>36.000000</td>\n",
       "      <td>34.00000</td>\n",
       "      <td>57.00000</td>\n",
       "    </tr>\n",
       "    <tr>\n",
       "      <th>4</th>\n",
       "      <td>29.000000</td>\n",
       "      <td>33.00000</td>\n",
       "      <td>54.00000</td>\n",
       "    </tr>\n",
       "    <tr>\n",
       "      <th>5</th>\n",
       "      <td>30.000000</td>\n",
       "      <td>33.00000</td>\n",
       "      <td>29.00000</td>\n",
       "    </tr>\n",
       "    <tr>\n",
       "      <th>6</th>\n",
       "      <td>31.000000</td>\n",
       "      <td>37.00000</td>\n",
       "      <td>38.00000</td>\n",
       "    </tr>\n",
       "    <tr>\n",
       "      <th>7</th>\n",
       "      <td>35.000000</td>\n",
       "      <td>38.00000</td>\n",
       "      <td>35.00000</td>\n",
       "    </tr>\n",
       "    <tr>\n",
       "      <th>8</th>\n",
       "      <td>32.000000</td>\n",
       "      <td>37.00000</td>\n",
       "      <td>40.00000</td>\n",
       "    </tr>\n",
       "    <tr>\n",
       "      <th>9</th>\n",
       "      <td>33.000000</td>\n",
       "      <td>38.00000</td>\n",
       "      <td>43.00000</td>\n",
       "    </tr>\n",
       "    <tr>\n",
       "      <th>Average</th>\n",
       "      <td>32.100000</td>\n",
       "      <td>35.40000</td>\n",
       "      <td>40.00000</td>\n",
       "    </tr>\n",
       "    <tr>\n",
       "      <th>Standard deviation</th>\n",
       "      <td>2.330951</td>\n",
       "      <td>1.95505</td>\n",
       "      <td>9.15302</td>\n",
       "    </tr>\n",
       "  </tbody>\n",
       "</table>\n",
       "</div>"
      ],
      "text/plain": [
       "                          1_g       2_g       3_g\n",
       "0                   34.000000  35.00000  35.00000\n",
       "1                   31.000000  35.00000  31.00000\n",
       "2                   30.000000  34.00000  38.00000\n",
       "3                   36.000000  34.00000  57.00000\n",
       "4                   29.000000  33.00000  54.00000\n",
       "5                   30.000000  33.00000  29.00000\n",
       "6                   31.000000  37.00000  38.00000\n",
       "7                   35.000000  38.00000  35.00000\n",
       "8                   32.000000  37.00000  40.00000\n",
       "9                   33.000000  38.00000  43.00000\n",
       "Average             32.100000  35.40000  40.00000\n",
       "Standard deviation   2.330951   1.95505   9.15302"
      ]
     },
     "execution_count": 29,
     "metadata": {},
     "output_type": "execute_result"
    }
   ],
   "source": [
    "n = dataframe.shape[0]\n",
    "sum1=sum(dataframe.iloc[:,0]/n)\n",
    "sum2=sum(dataframe.iloc[:,1]/n)\n",
    "sum3=sum(dataframe.iloc[:,2]/n)\n",
    "\n",
    "sd1=dataframe.iloc[:,0].std()\n",
    "sd2=dataframe.iloc[:,1].std()\n",
    "sd3=dataframe.iloc[:,2].std()\n",
    "\n",
    "new_dat = dataframe\n",
    "new_dat.loc[\"Average\"] = [sum1,sum2,sum3]\n",
    "new_dat.loc[\"Standard deviation\"] = [sd1,sd2,sd3]\n",
    "\n",
    "new_dat"
   ]
  },
  {
   "cell_type": "markdown",
   "metadata": {},
   "source": [
    "2. Побудувати графік розкиду в групах."
   ]
  },
  {
   "cell_type": "code",
   "execution_count": 27,
   "metadata": {},
   "outputs": [
    {
     "data": {
      "text/plain": [
       "<matplotlib.axes._subplots.AxesSubplot at 0x1ed816a6248>"
      ]
     },
     "execution_count": 27,
     "metadata": {},
     "output_type": "execute_result"
    },
    {
     "data": {
      "image/png": "[encoded data removed]",
      "text/plain": [
       "<Figure size 432x288 with 1 Axes>"
      ]
     },
     "metadata": {
      "needs_background": "light"
     },
     "output_type": "display_data"
    }
   ],
   "source": [
    "sns.boxplot(data=dataframe, \n",
    "            orient='h', \n",
    "            palette='pastel')"
   ]
  },
  {
   "cell_type": "markdown",
   "metadata": {},
   "source": [
    "3-4. Побудувати функцію, що реалізовує однофакторний дисперсійний аналіз. Вивести результати розрахунку кожного з етапів вказаних вище у вигляді таблиці."
   ]
  },
  {
   "cell_type": "code",
   "execution_count": 30,
   "metadata": {},
   "outputs": [],
   "source": [
    "def dispersia(data):\n",
    "    n = data.shape[0]\n",
    "    T1 = sum(data.iloc[:,0])\n",
    "    T2 = sum(data.iloc[:,1])\n",
    "    T3 = sum(data.iloc[:,2])\n",
    "    Tsum2 = pow(T1, 2) + pow(T2, 2) + pow(T3, 2)\n",
    "    c = data.shape[1]\n",
    "    N = n * c\n",
    "    sumXi2 = (T1 + T2 + T3) ** 2\n",
    "    const = sumXi2 / N\n",
    "    xi2 = 0\n",
    "    sumxi = 0\n",
    "    \n",
    "    for i in range (c):\n",
    "        for j in range(len(data.iloc[:,i-1])):\n",
    "            sumxi += (data.iloc[j][i])**2\n",
    "    \n",
    "    SSfact = Tsum2 / n - const\n",
    "    SSzagal = sumxi - const\n",
    "    SSvipadk = SSzagal - SSfact\n",
    "    \n",
    "    dfact = c - 1 \n",
    "    dzagal = N - 1 \n",
    "    dvipadk = dzagal - dfact\n",
    "    \n",
    "    MSfact = SSfact / dfact\n",
    "    MSvipadk = SSvipadk / dvipadk\n",
    "    \n",
    "    Femp = MSfact / MSvipadk\n",
    "    \n",
    "    print(\"In group dispersion:  \", SSfact)\n",
    "    print(\"All group dispersion: \", SSzagal)\n",
    "    print(\"Residual value:       \", SSvipadk)\n",
    "    print(\"d fact:               \", dfact)\n",
    "    print(\"d comm:               \", dzagal)\n",
    "    print(\"d rand:               \", dvipadk)\n",
    "    print(\"MS fact:              \", MSfact)\n",
    "    print(\"MS rand:              \", MSvipadk)\n",
    "    print(\"F empirical:          \", Femp)\n",
    "    \n",
    "    table = pd.read_excel(\"tab.xlsx\").iloc[dvipadk,dfact]\n",
    "    print(\"Critical val by table: \", table)\n",
    "    \n",
    "    if(Femp >= table):\n",
    "        result = \"Zero hypothesis not alowed, equality confirmed\"\n",
    "    else:\n",
    "        result = \"Zero hypothesis alowed, equality not confirmed\"\n",
    "\n",
    "    return result"
   ]
  },
  {
   "cell_type": "markdown",
   "metadata": {},
   "source": [
    "5. Перевірити результат роботи функції на реальних або сгенерованих даних."
   ]
  },
  {
   "cell_type": "code",
   "execution_count": 33,
   "metadata": {},
   "outputs": [
    {
     "name": "stdout",
     "output_type": "stream",
     "text": [
      "In group dispersion:   314.86666666666133\n",
      "All group dispersion:  1152.1666666666642\n",
      "Residual value:        837.3000000000029\n",
      "d fact:                2\n",
      "d comm:                29\n",
      "d rand:                27\n",
      "MS fact:               157.43333333333067\n",
      "MS rand:               31.01111111111122\n",
      "F empirical:           5.076675026871985\n",
      "Critical val by table:  3.3\n"
     ]
    },
    {
     "data": {
      "text/plain": [
       "'Zero hypothesis not alowed, equality confirmed'"
      ]
     },
     "execution_count": 33,
     "metadata": {},
     "output_type": "execute_result"
    }
   ],
   "source": [
    "dispersia(dataframe)"
   ]
  },
  {
   "cell_type": "code",
   "execution_count": null,
   "metadata": {},
   "outputs": [],
   "source": []
  }
 ],
 "metadata": {
  "kernelspec": {
   "display_name": "Python 3",
   "language": "python",
   "name": "python3"
  },
  "language_info": {
   "codemirror_mode": {
    "name": "ipython",
    "version": 3
   },
   "file_extension": ".py",
   "mimetype": "text/x-python",
   "name": "python",
   "nbconvert_exporter": "python",
   "pygments_lexer": "ipython3",
   "version": "3.7.6"
  }
 },
 "nbformat": 4,
 "nbformat_minor": 4
}
