{
 "cells": [
  {
   "cell_type": "markdown",
   "metadata": {},
   "source": [
    "# Обробка та аналіз БМД\n",
    "\n",
    "Лабораторна робота №6\n",
    "\n",
    "Виконав студент групи БС-81\n",
    "\n",
    "Лукашевич Максим"
   ]
  },
  {
   "cell_type": "markdown",
   "metadata": {},
   "source": [
    "1. Обрати реальні дані з kaggle або сгенерувати випадкові дані."
   ]
  },
  {
   "cell_type": "code",
   "execution_count": 1,
   "metadata": {},
   "outputs": [],
   "source": [
    "import scipy.stats as ss\n",
    "import numpy as np\n",
    "import pandas as pd\n",
    "import math\n",
    "import matplotlib.pyplot as plt\n",
    "import seaborn as sns"
   ]
  },
  {
   "cell_type": "code",
   "execution_count": 5,
   "metadata": {},
   "outputs": [
    {
     "data": {
      "text/html": [
       "<div>\n",
       "<style scoped>\n",
       "    .dataframe tbody tr th:only-of-type {\n",
       "        vertical-align: middle;\n",
       "    }\n",
       "\n",
       "    .dataframe tbody tr th {\n",
       "        vertical-align: top;\n",
       "    }\n",
       "\n",
       "    .dataframe thead th {\n",
       "        text-align: right;\n",
       "    }\n",
       "</style>\n",
       "<table border=\"1\" class=\"dataframe\">\n",
       "  <thead>\n",
       "    <tr style=\"text-align: right;\">\n",
       "      <th></th>\n",
       "      <th>Before</th>\n",
       "      <th>After</th>\n",
       "    </tr>\n",
       "  </thead>\n",
       "  <tbody>\n",
       "    <tr>\n",
       "      <th>0</th>\n",
       "      <td>53</td>\n",
       "      <td>53</td>\n",
       "    </tr>\n",
       "    <tr>\n",
       "      <th>1</th>\n",
       "      <td>50</td>\n",
       "      <td>49</td>\n",
       "    </tr>\n",
       "    <tr>\n",
       "      <th>2</th>\n",
       "      <td>49</td>\n",
       "      <td>43</td>\n",
       "    </tr>\n",
       "    <tr>\n",
       "      <th>3</th>\n",
       "      <td>54</td>\n",
       "      <td>48</td>\n",
       "    </tr>\n",
       "    <tr>\n",
       "      <th>4</th>\n",
       "      <td>52</td>\n",
       "      <td>51</td>\n",
       "    </tr>\n",
       "    <tr>\n",
       "      <th>5</th>\n",
       "      <td>55</td>\n",
       "      <td>54</td>\n",
       "    </tr>\n",
       "    <tr>\n",
       "      <th>6</th>\n",
       "      <td>51</td>\n",
       "      <td>50</td>\n",
       "    </tr>\n",
       "    <tr>\n",
       "      <th>7</th>\n",
       "      <td>50</td>\n",
       "      <td>51</td>\n",
       "    </tr>\n",
       "    <tr>\n",
       "      <th>8</th>\n",
       "      <td>48</td>\n",
       "      <td>43</td>\n",
       "    </tr>\n",
       "    <tr>\n",
       "      <th>9</th>\n",
       "      <td>51</td>\n",
       "      <td>47</td>\n",
       "    </tr>\n",
       "  </tbody>\n",
       "</table>\n",
       "</div>"
      ],
      "text/plain": [
       "   Before  After\n",
       "0      53     53\n",
       "1      50     49\n",
       "2      49     43\n",
       "3      54     48\n",
       "4      52     51\n",
       "5      55     54\n",
       "6      51     50\n",
       "7      50     51\n",
       "8      48     43\n",
       "9      51     47"
      ]
     },
     "execution_count": 5,
     "metadata": {},
     "output_type": "execute_result"
    }
   ],
   "source": [
    "dat1 = [53, 50, 49, 54, 52, 55, 51, 50, 48, 51]\n",
    "dat2 = [53, 49, 43, 48, 51, 54, 50, 51, 43, 47]\n",
    "dataframe = pd.DataFrame({\"Before\":dat1, \n",
    "                          \"After\":dat2})\n",
    "\n",
    "dataframe"
   ]
  },
  {
   "cell_type": "markdown",
   "metadata": {},
   "source": [
    "2. Побудувати графік, що відображає розкид даних в групах."
   ]
  },
  {
   "cell_type": "code",
   "execution_count": 7,
   "metadata": {},
   "outputs": [
    {
     "data": {
      "text/plain": [
       "[]"
      ]
     },
     "execution_count": 7,
     "metadata": {},
     "output_type": "execute_result"
    },
    {
     "data": {
      "image/png": "[encoded data removed]",
      "text/plain": [
       "<Figure size 432x288 with 1 Axes>"
      ]
     },
     "metadata": {
      "needs_background": "light"
     },
     "output_type": "display_data"
    }
   ],
   "source": [
    "sns.boxplot(data=dataframe, \n",
    "            orient='h', \n",
    "            palette='pastel').set()"
   ]
  },
  {
   "cell_type": "markdown",
   "metadata": {},
   "source": [
    "3. Написати функції:"
   ]
  },
  {
   "cell_type": "markdown",
   "metadata": {},
   "source": [
    "3.1 Для оцінки зв'язку між групами за коефіцієнтом кореляції Пірсона. Функція має повертати значення коефіцієнту кореляції, значення ступеня свободи та результат оцінки значимості зв'зку (significant або not significant)."
   ]
  },
  {
   "cell_type": "code",
   "execution_count": 32,
   "metadata": {},
   "outputs": [],
   "source": [
    "def mas_sum(massiv):\n",
    "    s1 = 0\n",
    "    for i in range(len(massiv)):\n",
    "        s1+=((massiv[i])**2)\n",
    "    return s1\n",
    "def pirson(x, y):\n",
    "    s1=sum(x)\n",
    "    s2=sum(y)\n",
    "    d=s1*s2\n",
    "    k=0\n",
    "    n = len(x)\n",
    "    for i in range(n):\n",
    "        k+=x[i]*y[i]\n",
    "    s3=mas_sum(x)\n",
    "    s4=(sum(x))**2\n",
    "    s5=mas_sum(y)\n",
    "    s6=((sum(y))**2)\n",
    "    result=0\n",
    "    p = ((n * k)-d)/(math.sqrt((n*s3-s4)*(n*s5-s6)))\n",
    "    print('Coef Pirsona:     ' + str(p))\n",
    "    r= len(x)-2\n",
    "    print('Level of freedom: ' + str(r))\n",
    "    table1 = pd.read_excel(\"table1.xlsx\").iloc[r-1, 1 ]\n",
    "    print(\"Correlation coef: \" + str(table1))\n",
    "    if table1<p:\n",
    "        result = \"Significant\"\n",
    "    else:\n",
    "        result = \"No significant\"\n",
    "    return result"
   ]
  },
  {
   "cell_type": "markdown",
   "metadata": {},
   "source": [
    "3.2. Для визначення відмінності між групами за критерієм Стьюдента. Функція має повертати значення критерію Стьюдента,значення ступеня свободи та результат оцінки значимості зв'зку (significant або not significant)."
   ]
  },
  {
   "cell_type": "code",
   "execution_count": 33,
   "metadata": {},
   "outputs": [],
   "source": [
    "def student(x, y):\n",
    "    n=len(x)\n",
    "    d=[]*n\n",
    "    for i in range(n):\n",
    "        d.append(x[i] - y[i])\n",
    "    M=sum(d)/n\n",
    "    L=0\n",
    "    for i in range(n):\n",
    "        L += ((M-d[i])**2)\n",
    "    sigma = math.sqrt((L)/(n-1))\n",
    "    tmp = M/(sigma/math.sqrt(n))\n",
    "    print('Coef Studenta:        ' + str(tmp))\n",
    "    r = n - 1\n",
    "    print('Level of freedom:     ' + str(r))\n",
    "    table2 = pd.read_excel(\"table2.xlsx\").iloc[r-1, 1 ]\n",
    "    print(\"Critical val of coef: \" + str(table2))\n",
    "    if table2<tmp:\n",
    "        result = \"Significant\"\n",
    "    else:\n",
    "        result = \"Not significant\"\n",
    "    return result"
   ]
  },
  {
   "cell_type": "code",
   "execution_count": 34,
   "metadata": {},
   "outputs": [
    {
     "name": "stdout",
     "output_type": "stream",
     "text": [
      "Coef Pirsona:     0.7392222418250556\n",
      "Level of freedom: 8\n",
      "Correlation coef: 0.6319\n"
     ]
    },
    {
     "data": {
      "text/plain": [
       "'Significant'"
      ]
     },
     "execution_count": 34,
     "metadata": {},
     "output_type": "execute_result"
    }
   ],
   "source": [
    "pirson(dat1, dat2)"
   ]
  },
  {
   "cell_type": "code",
   "execution_count": 35,
   "metadata": {},
   "outputs": [
    {
     "name": "stdout",
     "output_type": "stream",
     "text": [
      "Coef Studenta:        2.929638451576174\n",
      "Level of freedom:     9\n",
      "Critical val of coef: 2.262\n"
     ]
    },
    {
     "data": {
      "text/plain": [
       "'Significant'"
      ]
     },
     "execution_count": 35,
     "metadata": {},
     "output_type": "execute_result"
    }
   ],
   "source": [
    "student(dat1, dat2)"
   ]
  },
  {
   "cell_type": "markdown",
   "metadata": {},
   "source": [
    "4. Висновок."
   ]
  },
  {
   "cell_type": "markdown",
   "metadata": {},
   "source": [
    "1) Після обробки данних не було виявлено жодної залежності.\n",
    "2) Отримане значення критерію стюдента більше кртичного з цього можна зробити такий висновок, що наявність статично значущих відмінностей до та після.\n",
    "3) "
   ]
  }
 ],
 "metadata": {
  "kernelspec": {
   "display_name": "Python 3",
   "language": "python",
   "name": "python3"
  },
  "language_info": {
   "codemirror_mode": {
    "name": "ipython",
    "version": 3
   },
   "file_extension": ".py",
   "mimetype": "text/x-python",
   "name": "python",
   "nbconvert_exporter": "python",
   "pygments_lexer": "ipython3",
   "version": "3.7.6"
  }
 },
 "nbformat": 4,
 "nbformat_minor": 4
}
