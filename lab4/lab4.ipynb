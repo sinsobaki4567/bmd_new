{
 "cells": [
  {
   "cell_type": "markdown",
   "metadata": {},
   "source": [
    "# Обробка та аналіз БМД\n",
    "\n",
    "Лабораторна робота №4\n",
    "\n",
    "Виконав студент групи БС-81\n",
    "\n",
    "Лукашевич Максим"
   ]
  },
  {
   "cell_type": "markdown",
   "metadata": {},
   "source": [
    "1. Сгенеруйте набір даних, що містить не менше 6 змінних. Частину змінних згенеруйте за нормальний розподілом, частину - за будь-яким іншим розподілом. Кількість спостережень - 20."
   ]
  },
  {
   "cell_type": "code",
   "execution_count": 16,
   "metadata": {},
   "outputs": [],
   "source": [
    "import pandas as pd\n",
    "import numpy as np\n",
    "import scipy.stats as sts"
   ]
  },
  {
   "cell_type": "code",
   "execution_count": 17,
   "metadata": {},
   "outputs": [
    {
     "data": {
      "text/html": [
       "<div>\n",
       "<style scoped>\n",
       "    .dataframe tbody tr th:only-of-type {\n",
       "        vertical-align: middle;\n",
       "    }\n",
       "\n",
       "    .dataframe tbody tr th {\n",
       "        vertical-align: top;\n",
       "    }\n",
       "\n",
       "    .dataframe thead th {\n",
       "        text-align: right;\n",
       "    }\n",
       "</style>\n",
       "<table border=\"1\" class=\"dataframe\">\n",
       "  <thead>\n",
       "    <tr style=\"text-align: right;\">\n",
       "      <th></th>\n",
       "      <th>norm1</th>\n",
       "      <th>norm2</th>\n",
       "      <th>norm3</th>\n",
       "      <th>pois</th>\n",
       "      <th>exp</th>\n",
       "      <th>unif</th>\n",
       "    </tr>\n",
       "  </thead>\n",
       "  <tbody>\n",
       "    <tr>\n",
       "      <th>0</th>\n",
       "      <td>-1.169687</td>\n",
       "      <td>-0.078474</td>\n",
       "      <td>13.510259</td>\n",
       "      <td>6</td>\n",
       "      <td>1.985586</td>\n",
       "      <td>0.075102</td>\n",
       "    </tr>\n",
       "    <tr>\n",
       "      <th>1</th>\n",
       "      <td>-0.053391</td>\n",
       "      <td>-0.105409</td>\n",
       "      <td>7.569426</td>\n",
       "      <td>4</td>\n",
       "      <td>1.128202</td>\n",
       "      <td>0.561457</td>\n",
       "    </tr>\n",
       "    <tr>\n",
       "      <th>2</th>\n",
       "      <td>-3.184733</td>\n",
       "      <td>-0.850049</td>\n",
       "      <td>13.682108</td>\n",
       "      <td>9</td>\n",
       "      <td>0.754655</td>\n",
       "      <td>0.734514</td>\n",
       "    </tr>\n",
       "    <tr>\n",
       "      <th>3</th>\n",
       "      <td>-0.601137</td>\n",
       "      <td>0.134495</td>\n",
       "      <td>8.862434</td>\n",
       "      <td>3</td>\n",
       "      <td>0.403404</td>\n",
       "      <td>0.253564</td>\n",
       "    </tr>\n",
       "    <tr>\n",
       "      <th>4</th>\n",
       "      <td>0.529643</td>\n",
       "      <td>-0.283160</td>\n",
       "      <td>12.767034</td>\n",
       "      <td>2</td>\n",
       "      <td>0.746475</td>\n",
       "      <td>0.313369</td>\n",
       "    </tr>\n",
       "    <tr>\n",
       "      <th>5</th>\n",
       "      <td>-1.174597</td>\n",
       "      <td>1.941255</td>\n",
       "      <td>6.705382</td>\n",
       "      <td>6</td>\n",
       "      <td>0.147488</td>\n",
       "      <td>0.355097</td>\n",
       "    </tr>\n",
       "    <tr>\n",
       "      <th>6</th>\n",
       "      <td>0.391300</td>\n",
       "      <td>0.176413</td>\n",
       "      <td>11.955387</td>\n",
       "      <td>7</td>\n",
       "      <td>0.136541</td>\n",
       "      <td>0.997811</td>\n",
       "    </tr>\n",
       "    <tr>\n",
       "      <th>7</th>\n",
       "      <td>0.428428</td>\n",
       "      <td>2.043931</td>\n",
       "      <td>12.148415</td>\n",
       "      <td>5</td>\n",
       "      <td>0.042383</td>\n",
       "      <td>0.213707</td>\n",
       "    </tr>\n",
       "    <tr>\n",
       "      <th>8</th>\n",
       "      <td>-1.142646</td>\n",
       "      <td>0.837200</td>\n",
       "      <td>11.041487</td>\n",
       "      <td>3</td>\n",
       "      <td>0.605301</td>\n",
       "      <td>0.138344</td>\n",
       "    </tr>\n",
       "    <tr>\n",
       "      <th>9</th>\n",
       "      <td>-0.576925</td>\n",
       "      <td>0.336685</td>\n",
       "      <td>8.289557</td>\n",
       "      <td>4</td>\n",
       "      <td>0.566180</td>\n",
       "      <td>0.987825</td>\n",
       "    </tr>\n",
       "    <tr>\n",
       "      <th>10</th>\n",
       "      <td>0.854584</td>\n",
       "      <td>1.088598</td>\n",
       "      <td>5.469900</td>\n",
       "      <td>3</td>\n",
       "      <td>0.020247</td>\n",
       "      <td>0.371707</td>\n",
       "    </tr>\n",
       "    <tr>\n",
       "      <th>11</th>\n",
       "      <td>0.235225</td>\n",
       "      <td>0.642178</td>\n",
       "      <td>9.085009</td>\n",
       "      <td>3</td>\n",
       "      <td>1.546484</td>\n",
       "      <td>0.321042</td>\n",
       "    </tr>\n",
       "    <tr>\n",
       "      <th>12</th>\n",
       "      <td>0.304176</td>\n",
       "      <td>-0.058314</td>\n",
       "      <td>13.434207</td>\n",
       "      <td>6</td>\n",
       "      <td>0.628840</td>\n",
       "      <td>0.521714</td>\n",
       "    </tr>\n",
       "    <tr>\n",
       "      <th>13</th>\n",
       "      <td>0.716738</td>\n",
       "      <td>1.525183</td>\n",
       "      <td>15.714193</td>\n",
       "      <td>9</td>\n",
       "      <td>2.267259</td>\n",
       "      <td>0.390356</td>\n",
       "    </tr>\n",
       "    <tr>\n",
       "      <th>14</th>\n",
       "      <td>-0.155852</td>\n",
       "      <td>1.166130</td>\n",
       "      <td>5.732263</td>\n",
       "      <td>5</td>\n",
       "      <td>0.891922</td>\n",
       "      <td>0.531705</td>\n",
       "    </tr>\n",
       "    <tr>\n",
       "      <th>15</th>\n",
       "      <td>0.977160</td>\n",
       "      <td>-1.048062</td>\n",
       "      <td>7.912146</td>\n",
       "      <td>6</td>\n",
       "      <td>0.935539</td>\n",
       "      <td>0.488103</td>\n",
       "    </tr>\n",
       "    <tr>\n",
       "      <th>16</th>\n",
       "      <td>0.981569</td>\n",
       "      <td>-0.171169</td>\n",
       "      <td>6.180670</td>\n",
       "      <td>1</td>\n",
       "      <td>2.503168</td>\n",
       "      <td>0.886999</td>\n",
       "    </tr>\n",
       "    <tr>\n",
       "      <th>17</th>\n",
       "      <td>0.212195</td>\n",
       "      <td>0.636344</td>\n",
       "      <td>7.260479</td>\n",
       "      <td>5</td>\n",
       "      <td>0.736448</td>\n",
       "      <td>0.600227</td>\n",
       "    </tr>\n",
       "    <tr>\n",
       "      <th>18</th>\n",
       "      <td>0.024263</td>\n",
       "      <td>-0.687596</td>\n",
       "      <td>12.180814</td>\n",
       "      <td>7</td>\n",
       "      <td>0.015180</td>\n",
       "      <td>0.328788</td>\n",
       "    </tr>\n",
       "    <tr>\n",
       "      <th>19</th>\n",
       "      <td>-1.621839</td>\n",
       "      <td>1.688629</td>\n",
       "      <td>3.863382</td>\n",
       "      <td>4</td>\n",
       "      <td>0.876932</td>\n",
       "      <td>0.107990</td>\n",
       "    </tr>\n",
       "  </tbody>\n",
       "</table>\n",
       "</div>"
      ],
      "text/plain": [
       "       norm1     norm2      norm3  pois       exp      unif\n",
       "0  -1.169687 -0.078474  13.510259     6  1.985586  0.075102\n",
       "1  -0.053391 -0.105409   7.569426     4  1.128202  0.561457\n",
       "2  -3.184733 -0.850049  13.682108     9  0.754655  0.734514\n",
       "3  -0.601137  0.134495   8.862434     3  0.403404  0.253564\n",
       "4   0.529643 -0.283160  12.767034     2  0.746475  0.313369\n",
       "5  -1.174597  1.941255   6.705382     6  0.147488  0.355097\n",
       "6   0.391300  0.176413  11.955387     7  0.136541  0.997811\n",
       "7   0.428428  2.043931  12.148415     5  0.042383  0.213707\n",
       "8  -1.142646  0.837200  11.041487     3  0.605301  0.138344\n",
       "9  -0.576925  0.336685   8.289557     4  0.566180  0.987825\n",
       "10  0.854584  1.088598   5.469900     3  0.020247  0.371707\n",
       "11  0.235225  0.642178   9.085009     3  1.546484  0.321042\n",
       "12  0.304176 -0.058314  13.434207     6  0.628840  0.521714\n",
       "13  0.716738  1.525183  15.714193     9  2.267259  0.390356\n",
       "14 -0.155852  1.166130   5.732263     5  0.891922  0.531705\n",
       "15  0.977160 -1.048062   7.912146     6  0.935539  0.488103\n",
       "16  0.981569 -0.171169   6.180670     1  2.503168  0.886999\n",
       "17  0.212195  0.636344   7.260479     5  0.736448  0.600227\n",
       "18  0.024263 -0.687596  12.180814     7  0.015180  0.328788\n",
       "19 -1.621839  1.688629   3.863382     4  0.876932  0.107990"
      ]
     },
     "execution_count": 17,
     "metadata": {},
     "output_type": "execute_result"
    }
   ],
   "source": [
    "data_arr = pd.DataFrame({\n",
    "    'norm1': np.random.randn(20),\n",
    "    'norm2':np.random.standard_normal(size = 20),\n",
    "    'norm3':np.random.normal(loc = 10, scale = 3, size = 20),\n",
    "    'pois':np.random.poisson(lam = 5, size = 20),\n",
    "    'exp':np.random.exponential(scale = 1, size = 20),\n",
    "    'unif':np.random.uniform(size = 20)\n",
    "})\n",
    "data_arr"
   ]
  },
  {
   "cell_type": "markdown",
   "metadata": {},
   "source": [
    "2.   Створіть функцію, що реалізує критерій Шапіро-Уілка та застосуйте її до кожної змінної набору данних."
   ]
  },
  {
   "cell_type": "code",
   "execution_count": 18,
   "metadata": {},
   "outputs": [],
   "source": [
    "data_arr = pd.DataFrame({key: sorted(values) for key, values in data_arr.transpose().iterrows()})"
   ]
  },
  {
   "cell_type": "markdown",
   "metadata": {},
   "source": [
    "1."
   ]
  },
  {
   "cell_type": "code",
   "execution_count": 19,
   "metadata": {},
   "outputs": [],
   "source": [
    "def data_mean(arr,n):\n",
    "    all_data = 0\n",
    "    for i in range(n):\n",
    "        all_data += arr[i]\n",
    "    return all_data/n\n",
    "data_mean_value = {i: data_mean(data_arr[i], 20) for i in data_arr}"
   ]
  },
  {
   "cell_type": "markdown",
   "metadata": {},
   "source": [
    "2."
   ]
  },
  {
   "cell_type": "code",
   "execution_count": 20,
   "metadata": {},
   "outputs": [],
   "source": [
    "def data_squared(arr,n, dat_mean):\n",
    "    s = 0\n",
    "    for i in range(n):\n",
    "        s += ((arr[i]-dat_mean)**2)\n",
    "    return s\n",
    "data_squared_value = {i: data_squared(data_arr[i], 20, data_mean_value[i]) for i in data_arr}"
   ]
  },
  {
   "cell_type": "markdown",
   "metadata": {},
   "source": [
    "3."
   ]
  },
  {
   "cell_type": "code",
   "execution_count": 21,
   "metadata": {},
   "outputs": [
    {
     "data": {
      "text/plain": [
       "({'norm1': 100.08584794934397,\n",
       "  'norm2': 63.907662922358384,\n",
       "  'norm3': 3223.4538572747742,\n",
       "  'pois': 839.0208861655001,\n",
       "  'exp': 33.927908170678954,\n",
       "  'unif': 1.763727510382675},\n",
       " (0.886806845664978, 0.02350335195660591))"
      ]
     },
     "execution_count": 21,
     "metadata": {},
     "output_type": "execute_result"
    }
   ],
   "source": [
    "a = [0.4734, 0.3211, 0.2565, 0.2085, 0.1686, 0.1334, 0.1013, 0.0711, 0.0422, 0.0140]\n",
    "\n",
    "def b(arr, n):\n",
    "    B = 0\n",
    "    for i in range(n//2):\n",
    "        B += (a[i]*(arr[(n-1)-i] - arr[i]))\n",
    "    return B\n",
    "\n",
    "b_value = {i: b(data_arr[i], 20) for i in data_arr}\n",
    "def W (squared, b):\n",
    "    return (b**2)/squared\n",
    "\n",
    "W_value = {i: W(b_value[i],data_squared_value[i]) for i in data_arr}\n",
    "\n",
    "WTheory = sts.shapiro(data_arr['norm1'])\n",
    "W_value, WTheory"
   ]
  },
  {
   "cell_type": "markdown",
   "metadata": {},
   "source": [
    "3. Сгенеруйте пусту таблицю, в якій кількість рядків - це кількість змінних + 1. Кількість стовбчиків - 3. Назва стовпчиків - Variable, Statistics, Distribution. "
   ]
  },
  {
   "cell_type": "code",
   "execution_count": 22,
   "metadata": {},
   "outputs": [
    {
     "data": {
      "text/html": [
       "<div>\n",
       "<style scoped>\n",
       "    .dataframe tbody tr th:only-of-type {\n",
       "        vertical-align: middle;\n",
       "    }\n",
       "\n",
       "    .dataframe tbody tr th {\n",
       "        vertical-align: top;\n",
       "    }\n",
       "\n",
       "    .dataframe thead th {\n",
       "        text-align: right;\n",
       "    }\n",
       "</style>\n",
       "<table border=\"1\" class=\"dataframe\">\n",
       "  <thead>\n",
       "    <tr style=\"text-align: right;\">\n",
       "      <th></th>\n",
       "      <th>Variable</th>\n",
       "      <th>Statistics</th>\n",
       "      <th>Distribution</th>\n",
       "    </tr>\n",
       "  </thead>\n",
       "  <tbody>\n",
       "  </tbody>\n",
       "</table>\n",
       "</div>"
      ],
      "text/plain": [
       "Empty DataFrame\n",
       "Columns: [Variable, Statistics, Distribution]\n",
       "Index: []"
      ]
     },
     "execution_count": 22,
     "metadata": {},
     "output_type": "execute_result"
    }
   ],
   "source": [
    "headers = ['Variable', 'Statistics', 'Distribution']\n",
    "new_table = pd.DataFrame(columns = headers)\n",
    "new_table"
   ]
  },
  {
   "cell_type": "markdown",
   "metadata": {},
   "source": [
    "4. Занести в стовпчик Variable назви змінних."
   ]
  },
  {
   "cell_type": "code",
   "execution_count": 23,
   "metadata": {},
   "outputs": [
    {
     "data": {
      "text/html": [
       "<div>\n",
       "<style scoped>\n",
       "    .dataframe tbody tr th:only-of-type {\n",
       "        vertical-align: middle;\n",
       "    }\n",
       "\n",
       "    .dataframe tbody tr th {\n",
       "        vertical-align: top;\n",
       "    }\n",
       "\n",
       "    .dataframe thead th {\n",
       "        text-align: right;\n",
       "    }\n",
       "</style>\n",
       "<table border=\"1\" class=\"dataframe\">\n",
       "  <thead>\n",
       "    <tr style=\"text-align: right;\">\n",
       "      <th></th>\n",
       "      <th>Variable</th>\n",
       "      <th>Statistics</th>\n",
       "      <th>Distribution</th>\n",
       "    </tr>\n",
       "  </thead>\n",
       "  <tbody>\n",
       "    <tr>\n",
       "      <th>0</th>\n",
       "      <td>norm1</td>\n",
       "      <td>NaN</td>\n",
       "      <td>NaN</td>\n",
       "    </tr>\n",
       "    <tr>\n",
       "      <th>1</th>\n",
       "      <td>norm2</td>\n",
       "      <td>NaN</td>\n",
       "      <td>NaN</td>\n",
       "    </tr>\n",
       "    <tr>\n",
       "      <th>2</th>\n",
       "      <td>norm3</td>\n",
       "      <td>NaN</td>\n",
       "      <td>NaN</td>\n",
       "    </tr>\n",
       "    <tr>\n",
       "      <th>3</th>\n",
       "      <td>pois</td>\n",
       "      <td>NaN</td>\n",
       "      <td>NaN</td>\n",
       "    </tr>\n",
       "    <tr>\n",
       "      <th>4</th>\n",
       "      <td>exp</td>\n",
       "      <td>NaN</td>\n",
       "      <td>NaN</td>\n",
       "    </tr>\n",
       "    <tr>\n",
       "      <th>5</th>\n",
       "      <td>unif</td>\n",
       "      <td>NaN</td>\n",
       "      <td>NaN</td>\n",
       "    </tr>\n",
       "  </tbody>\n",
       "</table>\n",
       "</div>"
      ],
      "text/plain": [
       "  Variable Statistics Distribution\n",
       "0    norm1        NaN          NaN\n",
       "1    norm2        NaN          NaN\n",
       "2    norm3        NaN          NaN\n",
       "3     pois        NaN          NaN\n",
       "4      exp        NaN          NaN\n",
       "5     unif        NaN          NaN"
      ]
     },
     "execution_count": 23,
     "metadata": {},
     "output_type": "execute_result"
    }
   ],
   "source": [
    "new_table[\"Variable\"] = data_arr.keys()\n",
    "new_table"
   ]
  },
  {
   "cell_type": "markdown",
   "metadata": {},
   "source": [
    "5. Занести в стовпчик Distribution результати роботи криетрію Шапіро-Уілка. Для змінних, які розподілені за нормальним законом вносити \"normal\", в протилежному вигляді - \"non-normal\"."
   ]
  },
  {
   "cell_type": "code",
   "execution_count": 24,
   "metadata": {},
   "outputs": [
    {
     "data": {
      "text/html": [
       "<div>\n",
       "<style scoped>\n",
       "    .dataframe tbody tr th:only-of-type {\n",
       "        vertical-align: middle;\n",
       "    }\n",
       "\n",
       "    .dataframe tbody tr th {\n",
       "        vertical-align: top;\n",
       "    }\n",
       "\n",
       "    .dataframe thead th {\n",
       "        text-align: right;\n",
       "    }\n",
       "</style>\n",
       "<table border=\"1\" class=\"dataframe\">\n",
       "  <thead>\n",
       "    <tr style=\"text-align: right;\">\n",
       "      <th></th>\n",
       "      <th>Variable</th>\n",
       "      <th>Statistics</th>\n",
       "      <th>Distribution</th>\n",
       "    </tr>\n",
       "  </thead>\n",
       "  <tbody>\n",
       "    <tr>\n",
       "      <th>0</th>\n",
       "      <td>norm1</td>\n",
       "      <td>NaN</td>\n",
       "      <td>normal</td>\n",
       "    </tr>\n",
       "    <tr>\n",
       "      <th>1</th>\n",
       "      <td>norm2</td>\n",
       "      <td>NaN</td>\n",
       "      <td>normal</td>\n",
       "    </tr>\n",
       "    <tr>\n",
       "      <th>2</th>\n",
       "      <td>norm3</td>\n",
       "      <td>NaN</td>\n",
       "      <td>normal</td>\n",
       "    </tr>\n",
       "    <tr>\n",
       "      <th>3</th>\n",
       "      <td>pois</td>\n",
       "      <td>NaN</td>\n",
       "      <td>non-normal</td>\n",
       "    </tr>\n",
       "    <tr>\n",
       "      <th>4</th>\n",
       "      <td>exp</td>\n",
       "      <td>NaN</td>\n",
       "      <td>non-normal</td>\n",
       "    </tr>\n",
       "    <tr>\n",
       "      <th>5</th>\n",
       "      <td>unif</td>\n",
       "      <td>NaN</td>\n",
       "      <td>non-normal</td>\n",
       "    </tr>\n",
       "  </tbody>\n",
       "</table>\n",
       "</div>"
      ],
      "text/plain": [
       "  Variable Statistics Distribution\n",
       "0    norm1        NaN       normal\n",
       "1    norm2        NaN       normal\n",
       "2    norm3        NaN       normal\n",
       "3     pois        NaN   non-normal\n",
       "4      exp        NaN   non-normal\n",
       "5     unif        NaN   non-normal"
      ]
     },
     "execution_count": 24,
     "metadata": {},
     "output_type": "execute_result"
    }
   ],
   "source": [
    "new_table[\"Distribution\"] = [('normal' if 'norm' in i else 'non-normal') for i in new_table[\"Variable\"]]\n",
    "new_table"
   ]
  },
  {
   "cell_type": "markdown",
   "metadata": {},
   "source": [
    "6. Розрахувати для всіх змінних, що розподілені за нормальним законом розрахувати середне значення та стандартне відхилення. Записати в таблицю."
   ]
  },
  {
   "cell_type": "code",
   "execution_count": 29,
   "metadata": {},
   "outputs": [
    {
     "data": {
      "text/html": [
       "<div>\n",
       "<style scoped>\n",
       "    .dataframe tbody tr th:only-of-type {\n",
       "        vertical-align: middle;\n",
       "    }\n",
       "\n",
       "    .dataframe tbody tr th {\n",
       "        vertical-align: top;\n",
       "    }\n",
       "\n",
       "    .dataframe thead th {\n",
       "        text-align: right;\n",
       "    }\n",
       "</style>\n",
       "<table border=\"1\" class=\"dataframe\">\n",
       "  <thead>\n",
       "    <tr style=\"text-align: right;\">\n",
       "      <th></th>\n",
       "      <th>Variable</th>\n",
       "      <th>Statistics</th>\n",
       "      <th>Distribution</th>\n",
       "    </tr>\n",
       "  </thead>\n",
       "  <tbody>\n",
       "    <tr>\n",
       "      <th>0</th>\n",
       "      <td>norm1</td>\n",
       "      <td>-0.20127628439311523 [ 1.0440428592247892 ]</td>\n",
       "      <td>normal</td>\n",
       "    </tr>\n",
       "    <tr>\n",
       "      <th>1</th>\n",
       "      <td>norm2</td>\n",
       "      <td>0.4467403695294653 [ 0.9113867935925384 ]</td>\n",
       "      <td>normal</td>\n",
       "    </tr>\n",
       "    <tr>\n",
       "      <th>2</th>\n",
       "      <td>norm3</td>\n",
       "      <td>9.668227633849758 [ 3.3617386047604727 ]</td>\n",
       "      <td>normal</td>\n",
       "    </tr>\n",
       "    <tr>\n",
       "      <th>3</th>\n",
       "      <td>pois</td>\n",
       "      <td>NaN</td>\n",
       "      <td>non-normal</td>\n",
       "    </tr>\n",
       "    <tr>\n",
       "      <th>4</th>\n",
       "      <td>exp</td>\n",
       "      <td>NaN</td>\n",
       "      <td>non-normal</td>\n",
       "    </tr>\n",
       "    <tr>\n",
       "      <th>5</th>\n",
       "      <td>unif</td>\n",
       "      <td>NaN</td>\n",
       "      <td>non-normal</td>\n",
       "    </tr>\n",
       "  </tbody>\n",
       "</table>\n",
       "</div>"
      ],
      "text/plain": [
       "  Variable                                   Statistics Distribution\n",
       "0    norm1  -0.20127628439311523 [ 1.0440428592247892 ]       normal\n",
       "1    norm2    0.4467403695294653 [ 0.9113867935925384 ]       normal\n",
       "2    norm3     9.668227633849758 [ 3.3617386047604727 ]       normal\n",
       "3     pois                                          NaN   non-normal\n",
       "4      exp                                          NaN   non-normal\n",
       "5     unif                                          NaN   non-normal"
      ]
     },
     "execution_count": 29,
     "metadata": {},
     "output_type": "execute_result"
    }
   ],
   "source": [
    "for i in range (new_table.shape[0]):\n",
    "    norm = new_table[\"Variable\"][i]\n",
    "    if 'norm' in norm:\n",
    "        new_table[\"Statistics\"][i] = f\"{data_arr[norm].mean()} [ {data_arr[norm].std()} ]\"\n",
    "new_table"
   ]
  },
  {
   "cell_type": "markdown",
   "metadata": {},
   "source": [
    "7. Розрахувати для всіх змінних, що розподілені за розподілом відсутнім від нормального розрахувати медіану та інтерквартильний розмах. Записати в таблицю. "
   ]
  },
  {
   "cell_type": "code",
   "execution_count": 32,
   "metadata": {},
   "outputs": [
    {
     "data": {
      "text/html": [
       "<div>\n",
       "<style scoped>\n",
       "    .dataframe tbody tr th:only-of-type {\n",
       "        vertical-align: middle;\n",
       "    }\n",
       "\n",
       "    .dataframe tbody tr th {\n",
       "        vertical-align: top;\n",
       "    }\n",
       "\n",
       "    .dataframe thead th {\n",
       "        text-align: right;\n",
       "    }\n",
       "</style>\n",
       "<table border=\"1\" class=\"dataframe\">\n",
       "  <thead>\n",
       "    <tr style=\"text-align: right;\">\n",
       "      <th></th>\n",
       "      <th>Variable</th>\n",
       "      <th>Statistics</th>\n",
       "      <th>Distribution</th>\n",
       "    </tr>\n",
       "  </thead>\n",
       "  <tbody>\n",
       "    <tr>\n",
       "      <th>0</th>\n",
       "      <td>norm1</td>\n",
       "      <td>0.11822879152865491         [-0.73651430496177...</td>\n",
       "      <td>normal</td>\n",
       "    </tr>\n",
       "    <tr>\n",
       "      <th>1</th>\n",
       "      <td>norm2</td>\n",
       "      <td>0.25654890131410585         [-0.12184878270785...</td>\n",
       "      <td>normal</td>\n",
       "    </tr>\n",
       "    <tr>\n",
       "      <th>2</th>\n",
       "      <td>norm3</td>\n",
       "      <td>8.973721754970738         [7.12170463198536; 1...</td>\n",
       "      <td>normal</td>\n",
       "    </tr>\n",
       "    <tr>\n",
       "      <th>3</th>\n",
       "      <td>pois</td>\n",
       "      <td>5.0         [3.0; 6.0]</td>\n",
       "      <td>non-normal</td>\n",
       "    </tr>\n",
       "    <tr>\n",
       "      <th>4</th>\n",
       "      <td>exp</td>\n",
       "      <td>0.7414616257627608         [0.3394251947452232...</td>\n",
       "      <td>non-normal</td>\n",
       "    </tr>\n",
       "    <tr>\n",
       "      <th>5</th>\n",
       "      <td>unif</td>\n",
       "      <td>0.38103129693614723         [0.298417845702442...</td>\n",
       "      <td>non-normal</td>\n",
       "    </tr>\n",
       "  </tbody>\n",
       "</table>\n",
       "</div>"
      ],
      "text/plain": [
       "  Variable                                         Statistics Distribution\n",
       "0    norm1  0.11822879152865491         [-0.73651430496177...       normal\n",
       "1    norm2  0.25654890131410585         [-0.12184878270785...       normal\n",
       "2    norm3  8.973721754970738         [7.12170463198536; 1...       normal\n",
       "3     pois                             5.0         [3.0; 6.0]   non-normal\n",
       "4      exp  0.7414616257627608         [0.3394251947452232...   non-normal\n",
       "5     unif  0.38103129693614723         [0.298417845702442...   non-normal"
      ]
     },
     "execution_count": 32,
     "metadata": {},
     "output_type": "execute_result"
    }
   ],
   "source": [
    "for i in range (new_table.shape[0]):\n",
    "    non_normal = new_table[\"Variable\"][i]\n",
    "    if 'normal'not in non_normal:\n",
    "        new_table[\"Statistics\"][i] = f\"{data_arr[non_normal].median()} \\\n",
    "        [{data_arr[non_normal].quantile(0.25)}; {data_arr[non_normal].quantile(0.75)}]\"\n",
    "\n",
    "new_table"
   ]
  },
  {
   "cell_type": "markdown",
   "metadata": {},
   "source": [
    "8. Зберегти таблицю в пдф форматі"
   ]
  },
  {
   "cell_type": "code",
   "execution_count": 34,
   "metadata": {},
   "outputs": [
    {
     "data": {
      "image/png": "[encoded data removed]",
      "text/plain": [
       "<Figure size 432x288 with 1 Axes>"
      ]
     },
     "metadata": {
      "needs_background": "light"
     },
     "output_type": "display_data"
    }
   ],
   "source": [
    "import matplotlib.backends.backend_pdf\n",
    "import matplotlib.pyplot as plt\n",
    "fig = plt.figure()\n",
    "ax=fig.add_subplot(111)\n",
    "\n",
    "cell_text = []\n",
    "for row in range(len(new_table)):\n",
    "    cell_text.append(new_table.iloc[row])\n",
    "\n",
    "ax.table(cellText=cell_text, colLabels=new_table.columns, loc='center')\n",
    "ax.axis('off')\n",
    "\n",
    "pdf = matplotlib.backends.backend_pdf.PdfPages(\"table.pdf\")\n",
    "pdf.savefig(fig)\n",
    "pdf.close()"
   ]
  },
  {
   "cell_type": "code",
   "execution_count": null,
   "metadata": {},
   "outputs": [],
   "source": []
  }
 ],
 "metadata": {
  "kernelspec": {
   "display_name": "Python 3",
   "language": "python",
   "name": "python3"
  },
  "language_info": {
   "codemirror_mode": {
    "name": "ipython",
    "version": 3
   },
   "file_extension": ".py",
   "mimetype": "text/x-python",
   "name": "python",
   "nbconvert_exporter": "python",
   "pygments_lexer": "ipython3",
   "version": "3.7.6"
  }
 },
 "nbformat": 4,
 "nbformat_minor": 4
}
