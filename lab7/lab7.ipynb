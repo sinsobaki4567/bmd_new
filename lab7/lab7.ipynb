{
 "cells": [
  {
   "cell_type": "markdown",
   "metadata": {},
   "source": [
    "# Обробка та аналіз БМД\n",
    "\n",
    "Лабораторна робота №7\n",
    "\n",
    "Виконав студент групи БС-81\n",
    "\n",
    "Лукашевич Максим"
   ]
  },
  {
   "cell_type": "markdown",
   "metadata": {},
   "source": [
    "1. Обрати реальні дані з kaggle або сгенерувати випадкові дані."
   ]
  },
  {
   "cell_type": "code",
   "execution_count": 40,
   "metadata": {},
   "outputs": [],
   "source": [
    "import scipy.stats as ss\n",
    "import numpy as np\n",
    "import pandas as pd\n",
    "from math import sqrt\n",
    "import matplotlib.pyplot as plt\n",
    "import seaborn as sns"
   ]
  },
  {
   "cell_type": "code",
   "execution_count": 41,
   "metadata": {},
   "outputs": [
    {
     "data": {
      "text/html": [
       "<div>\n",
       "<style scoped>\n",
       "    .dataframe tbody tr th:only-of-type {\n",
       "        vertical-align: middle;\n",
       "    }\n",
       "\n",
       "    .dataframe tbody tr th {\n",
       "        vertical-align: top;\n",
       "    }\n",
       "\n",
       "    .dataframe thead th {\n",
       "        text-align: right;\n",
       "    }\n",
       "</style>\n",
       "<table border=\"1\" class=\"dataframe\">\n",
       "  <thead>\n",
       "    <tr style=\"text-align: right;\">\n",
       "      <th></th>\n",
       "      <th>Before</th>\n",
       "      <th>After</th>\n",
       "    </tr>\n",
       "  </thead>\n",
       "  <tbody>\n",
       "    <tr>\n",
       "      <th>0</th>\n",
       "      <td>34</td>\n",
       "      <td>35</td>\n",
       "    </tr>\n",
       "    <tr>\n",
       "      <th>1</th>\n",
       "      <td>31</td>\n",
       "      <td>35</td>\n",
       "    </tr>\n",
       "    <tr>\n",
       "      <th>2</th>\n",
       "      <td>30</td>\n",
       "      <td>34</td>\n",
       "    </tr>\n",
       "    <tr>\n",
       "      <th>3</th>\n",
       "      <td>36</td>\n",
       "      <td>34</td>\n",
       "    </tr>\n",
       "    <tr>\n",
       "      <th>4</th>\n",
       "      <td>29</td>\n",
       "      <td>33</td>\n",
       "    </tr>\n",
       "    <tr>\n",
       "      <th>5</th>\n",
       "      <td>30</td>\n",
       "      <td>33</td>\n",
       "    </tr>\n",
       "    <tr>\n",
       "      <th>6</th>\n",
       "      <td>31</td>\n",
       "      <td>37</td>\n",
       "    </tr>\n",
       "    <tr>\n",
       "      <th>7</th>\n",
       "      <td>35</td>\n",
       "      <td>38</td>\n",
       "    </tr>\n",
       "    <tr>\n",
       "      <th>8</th>\n",
       "      <td>32</td>\n",
       "      <td>37</td>\n",
       "    </tr>\n",
       "    <tr>\n",
       "      <th>9</th>\n",
       "      <td>33</td>\n",
       "      <td>38</td>\n",
       "    </tr>\n",
       "  </tbody>\n",
       "</table>\n",
       "</div>"
      ],
      "text/plain": [
       "   Before  After\n",
       "0      34     35\n",
       "1      31     35\n",
       "2      30     34\n",
       "3      36     34\n",
       "4      29     33\n",
       "5      30     33\n",
       "6      31     37\n",
       "7      35     38\n",
       "8      32     37\n",
       "9      33     38"
      ]
     },
     "execution_count": 41,
     "metadata": {},
     "output_type": "execute_result"
    }
   ],
   "source": [
    "dat1 = [34, 31, 30, 36, 29, 30, 31, 35, 32, 33]\n",
    "dat2 = [35, 35, 34, 34, 33, 33, 37, 38, 37, 38]\n",
    "dataframe = pd.DataFrame({\"Before\":dat1, \n",
    "                          \"After\":dat2})\n",
    "\n",
    "dataframe"
   ]
  },
  {
   "cell_type": "markdown",
   "metadata": {},
   "source": [
    "2. Побудувати графік, що відображає розкид даних в групах."
   ]
  },
  {
   "cell_type": "code",
   "execution_count": 42,
   "metadata": {},
   "outputs": [
    {
     "data": {
      "text/plain": [
       "[]"
      ]
     },
     "execution_count": 42,
     "metadata": {},
     "output_type": "execute_result"
    },
    {
     "data": {
      "image/png": "[encoded data removed]",
      "text/plain": [
       "<Figure size 432x288 with 1 Axes>"
      ]
     },
     "metadata": {
      "needs_background": "light"
     },
     "output_type": "display_data"
    }
   ],
   "source": [
    "sns.boxplot(data=dataframe, \n",
    "            orient='h', \n",
    "            palette='pastel').set()"
   ]
  },
  {
   "cell_type": "markdown",
   "metadata": {},
   "source": [
    "3. Написати функції:"
   ]
  },
  {
   "cell_type": "markdown",
   "metadata": {},
   "source": [
    "3.1 Для оцінки вімінностей дисперсій між групами за критерієм Лівеня. Функція має повертати значення тесту та результат оцінки рівності дисперсій (significant або not significant)."
   ]
  },
  {
   "cell_type": "code",
   "execution_count": 43,
   "metadata": {},
   "outputs": [],
   "source": [
    "def livena(data):\n",
    "    n = data.shape[0]\n",
    "    sum1 = 0\n",
    "    sum2 = 0\n",
    "    for i in range(n):\n",
    "        sum1 += pow((data.iloc[i, 0] - (sum(data.iloc[:, 0])/n)), 2)\n",
    "    for i in range(n):\n",
    "        sum2 += pow((data.iloc[i, 1] - (sum(data.iloc[:, 1])/n)), 2)\n",
    "        \n",
    "    sigma1 = sqrt(sum1/n)\n",
    "    sigma2 = sqrt(sum2/n)\n",
    "    \n",
    "    if sigma1 > sigma2:\n",
    "        F = pow(sigma1, 2)/pow(sigma2, 2)\n",
    "    else:\n",
    "        F = pow(sigma2, 2)/pow(sigma1, 2)\n",
    "    df = n-1\n",
    "    \n",
    "    print(\"Coef Livena:          \" + str(F))\n",
    "    print(\"Level of freedom:     \" + str(df))\n",
    "    table1 = pd.read_excel(\"tab1.xlsx\").iloc[df, df]\n",
    "    print(\"Critical val of coef: \" + str(tab1))\n",
    "    \n",
    "    if F < tab1:\n",
    "        result = \"Significant\"\n",
    "    else:\n",
    "        result = \"Not significant\"\n",
    "    return result"
   ]
  },
  {
   "cell_type": "markdown",
   "metadata": {},
   "source": [
    "3.2 Для визначення відмінності між групами за критерієм Стьюдента в залежності від рівності/відмінності дисперсій. Функція має повертати значення критерію Стьюдента,значення ступеня свободи та результат оцінки значимості зв'зку (significant або not significant)."
   ]
  },
  {
   "cell_type": "code",
   "execution_count": 50,
   "metadata": {},
   "outputs": [],
   "source": [
    "def student(x, y):\n",
    "    n=len(x)\n",
    "    d=[]*n\n",
    "    for i in range(n):\n",
    "        d.append(x[i] - y[i])\n",
    "    M=sum(d)/n\n",
    "    L=0\n",
    "    for i in range(n):\n",
    "        L += ((M-d[i])**2)\n",
    "    sigma = math.sqrt((L)/(n-1))\n",
    "    tmp = M/(sigma/math.sqrt(n))\n",
    "    print('Coef Studenta:        ' + str(tmp))\n",
    "    r = n - 1\n",
    "    print('Level of freedom:     ' + str(r))\n",
    "    table2 = pd.read_excel(\"tab2.xlsx\").iloc[r-1, 1 ]\n",
    "    print(\"Critical val of coef: \" + str(table2))\n",
    "    if table2<tmp:\n",
    "        result = \"Significant\"\n",
    "    else:\n",
    "        result = \"Not significant\"\n",
    "    return result"
   ]
  },
  {
   "cell_type": "markdown",
   "metadata": {},
   "source": [
    "3. Перевірити розбіжність на між групами на даних з п. 1."
   ]
  },
  {
   "cell_type": "code",
   "execution_count": 51,
   "metadata": {},
   "outputs": [
    {
     "name": "stdout",
     "output_type": "stream",
     "text": [
      "Coef Livena:          1.421511627906976\n",
      "Level of freedom:     9\n",
      "Critical val of coef: 3.18\n"
     ]
    },
    {
     "data": {
      "text/plain": [
       "'Significant'"
      ]
     },
     "execution_count": 51,
     "metadata": {},
     "output_type": "execute_result"
    }
   ],
   "source": [
    "livena(dataframe)"
   ]
  },
  {
   "cell_type": "code",
   "execution_count": 52,
   "metadata": {},
   "outputs": [
    {
     "name": "stdout",
     "output_type": "stream",
     "text": [
      "Coef Studenta:        -4.514011450616777\n",
      "Level of freedom:     9\n",
      "Critical val of coef: 2.262\n"
     ]
    },
    {
     "data": {
      "text/plain": [
       "'Not significant'"
      ]
     },
     "execution_count": 52,
     "metadata": {},
     "output_type": "execute_result"
    }
   ],
   "source": [
    "student(dat1, dat2)"
   ]
  },
  {
   "cell_type": "code",
   "execution_count": null,
   "metadata": {},
   "outputs": [],
   "source": []
  }
 ],
 "metadata": {
  "kernelspec": {
   "display_name": "Python 3",
   "language": "python",
   "name": "python3"
  },
  "language_info": {
   "codemirror_mode": {
    "name": "ipython",
    "version": 3
   },
   "file_extension": ".py",
   "mimetype": "text/x-python",
   "name": "python",
   "nbconvert_exporter": "python",
   "pygments_lexer": "ipython3",
   "version": "3.7.6"
  }
 },
 "nbformat": 4,
 "nbformat_minor": 4
}
